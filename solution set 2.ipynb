{
 "cells": [
  {
   "cell_type": "markdown",
   "id": "ac6374f6-48d1-41ac-a1e8-f9f405c0e60d",
   "metadata": {},
   "source": [
    "Q1. Create a list in python using the followings: 2,3,4,5,6,7 with variable ‘a’\n",
    "Add ‘mango to the above list\n",
    "Also add banana, grapes & orange in the list\n",
    "insert apple in the 5th position of a variable ‘a’\n",
    "Remove last item from the list"
   ]
  },
  {
   "cell_type": "code",
   "execution_count": 14,
   "id": "8b2237ba-9395-428f-ab26-860435ca4f1b",
   "metadata": {},
   "outputs": [
    {
     "name": "stdout",
     "output_type": "stream",
     "text": [
      "[2, 3, 4, 5, 'Apple', 6, 7, 'Mango', 'banana', 'grapes']\n"
     ]
    }
   ],
   "source": [
    "a = [2,3,4,5,6,7]\n",
    "a.append('Mango')\n",
    "a.extend(['banana', 'grapes', 'orange'])\n",
    "a.insert(4,'Apple')\n",
    "a.pop()\n",
    "print(a)"
   ]
  },
  {
   "cell_type": "code",
   "execution_count": null,
   "id": "303de0ca-99be-4f2a-b577-d4b0b7dc0e65",
   "metadata": {},
   "outputs": [],
   "source": []
  },
  {
   "cell_type": "markdown",
   "id": "3890acfa-344f-4842-9876-277e51dcd4ab",
   "metadata": {},
   "source": [
    "Q2.\n",
    "L = [1,2,3,4,5,6,7]\n",
    "Using the above list slice from 1:4"
   ]
  },
  {
   "cell_type": "code",
   "execution_count": 3,
   "id": "8f873a80-89fe-4530-9fd1-efe59d8fbf30",
   "metadata": {},
   "outputs": [],
   "source": [
    " L = [1,2,3,4,5,6,7][1:4]"
   ]
  },
  {
   "cell_type": "code",
   "execution_count": 4,
   "id": "0688099a-a7ca-4c88-bc65-626417b12a19",
   "metadata": {},
   "outputs": [
    {
     "data": {
      "text/plain": [
       "[2, 3, 4]"
      ]
     },
     "execution_count": 4,
     "metadata": {},
     "output_type": "execute_result"
    }
   ],
   "source": [
    "L"
   ]
  },
  {
   "cell_type": "markdown",
   "id": "ac7d3cff-e79e-481a-bb82-ee10a23add99",
   "metadata": {},
   "source": [
    "Q3. Reverse the order of given string L = [4,5,6,8,3] Without using reverse() function."
   ]
  },
  {
   "cell_type": "code",
   "execution_count": 5,
   "id": "f6df2050-5446-41cd-8a61-905c1f70e741",
   "metadata": {},
   "outputs": [],
   "source": [
    "L = [4,5,6,8,3]\n",
    "n = len(L)\n",
    "for i in range(0,n+1,-1):\n",
    "    print(L[i])"
   ]
  },
  {
   "cell_type": "markdown",
   "id": "cece84e6-d334-411b-b85e-d90fab810573",
   "metadata": {},
   "source": [
    "Q4. Use list comprehension to square the given list L=[2,4,7,3,6,8]"
   ]
  },
  {
   "cell_type": "code",
   "execution_count": 6,
   "id": "94cc9712-9cde-4845-9778-887be8b16de8",
   "metadata": {},
   "outputs": [
    {
     "data": {
      "text/plain": [
       "[4, 16, 49, 9, 36, 64]"
      ]
     },
     "execution_count": 6,
     "metadata": {},
     "output_type": "execute_result"
    }
   ],
   "source": [
    "list=[2,4,7,3,6,8]\n",
    "def square(L):\n",
    "    return [i ** 2 for i in L]\n",
    "\n",
    "square(list)"
   ]
  },
  {
   "cell_type": "markdown",
   "id": "918f2d2a-6dee-4f59-8e4e-d5838abb50d3",
   "metadata": {},
   "source": [
    "Q5. Create a function that takes in a tuple of integers and returns the sum of the integers. Test the\n",
    "function with a tuple of your choice."
   ]
  },
  {
   "cell_type": "code",
   "execution_count": 1,
   "id": "186dc55d-de7b-4573-a1be-a9a4d4370d49",
   "metadata": {},
   "outputs": [
    {
     "name": "stdout",
     "output_type": "stream",
     "text": [
      "15\n"
     ]
    }
   ],
   "source": [
    "\n",
    "def sum_tup(t):\n",
    "    \n",
    "    return sum(t)\n",
    "new_tup = (1,2,3,4,5)\n",
    "print(sum_tup(new_tup))\n",
    "   "
   ]
  },
  {
   "cell_type": "markdown",
   "id": "47fccacc-f07e-4f18-808d-8194bbc14f1f",
   "metadata": {},
   "source": [
    "Q6. Create two sets of your favourite fruits, and use the union() method to combine them into a single set.\n",
    "Print the resulting set to the console."
   ]
  },
  {
   "cell_type": "code",
   "execution_count": 2,
   "id": "65aaec03-d797-44c7-b028-0c50e8ad72c6",
   "metadata": {},
   "outputs": [
    {
     "name": "stdout",
     "output_type": "stream",
     "text": [
      "{'Pineapple', 'Watermelon', 'Litchi', 'strawberry', 'Apple', 'Mango', 'Orange', 'Pomegranate'}\n"
     ]
    }
   ],
   "source": [
    "set1 = {'Apple','Mango','Orange','Pineapple'}\n",
    "set2 = {'Pomegranate','Litchi','strawberry','Watermelon'}\n",
    "\n",
    "fruits = set1.union(set2)\n",
    "print(fruits)\n"
   ]
  },
  {
   "cell_type": "markdown",
   "id": "02ba86db-0a1f-4b34-961c-2052fa17ed03",
   "metadata": {},
   "source": [
    "Q7. Create a set of random words, and use the add() method to add a new word to the set. Print the\n",
    "resulting set to the console."
   ]
  },
  {
   "cell_type": "code",
   "execution_count": 6,
   "id": "d549d304-1dca-4b2e-9017-02ebb531c68f",
   "metadata": {},
   "outputs": [
    {
     "name": "stdout",
     "output_type": "stream",
     "text": [
      "{'name_1', 'Ram', 'Ghanshu', 'Nintu', 'shayam', 'Ritika', 'Bhavya'}\n"
     ]
    }
   ],
   "source": [
    "rand_set = {'Ram','shayam','Ghanshu','Nintu','Bhavya','Ritika'}\n",
    "rand_set.add('name_1')\n",
    "print(rand_set)"
   ]
  },
  {
   "cell_type": "markdown",
   "id": "7ff2769f-c61a-4c6d-ae47-868167edb6ef",
   "metadata": {},
   "source": [
    "Q8. Create a set of your favourite animals, and use the remove() method to remove one animal from the\n",
    "set. Print the resulting set to the console."
   ]
  },
  {
   "cell_type": "code",
   "execution_count": 9,
   "id": "b07dd775-9453-4f82-8939-8c496d6833d2",
   "metadata": {},
   "outputs": [
    {
     "name": "stdout",
     "output_type": "stream",
     "text": [
      "{'Dog', 'Horss', 'Elephant', 'Monkey', 'Cow'}\n"
     ]
    }
   ],
   "source": [
    "fav_animals = {'Cat','Dog','Monkey','Elephant','Cow','Horss'}\n",
    "fav_animals.remove('Cat')\n",
    "print(fav_animals)"
   ]
  },
  {
   "cell_type": "markdown",
   "id": "cf0b8ebb-89ba-4bb2-b059-6366b6331e27",
   "metadata": {},
   "source": [
    "Q9. favorite_books = {\"1984\", \"To Kill a Mockingbird\", \"Pride and Prejudice\"}\n",
    "favorite_movies = [\"The Shawshank Redemption\", \"The Godfather\", \"The Dark Knight\"]\n",
    "Use the zip() function to combine the book set and movie list into a list of tuples representing book/\n",
    "movie pairs. Print the resulting list."
   ]
  },
  {
   "cell_type": "code",
   "execution_count": 18,
   "id": "247b5fe6-cd09-4de7-afcf-09f1caeb5d87",
   "metadata": {},
   "outputs": [],
   "source": [
    "fav_books = {\"1984\", \"To Kill a Mockingbird\", \"Pride and Prejudice\"}\n",
    "fav_movies = [\"The Shawshank Redemption\", \"The Godfather\", \"The Dark Knight\"]\n",
    "fav_coll = list(zip(fav_books,fav_movies))"
   ]
  },
  {
   "cell_type": "code",
   "execution_count": 19,
   "id": "46547a53-2ad1-4948-843c-6f722db0d3b4",
   "metadata": {},
   "outputs": [
    {
     "name": "stdout",
     "output_type": "stream",
     "text": [
      "[('1984', 'The Shawshank Redemption'), ('Pride and Prejudice', 'The Godfather'), ('To Kill a Mockingbird', 'The Dark Knight')]\n"
     ]
    }
   ],
   "source": [
    "print(fav_coll)"
   ]
  },
  {
   "cell_type": "markdown",
   "id": "cfaff827-c074-40c9-8281-4eab5f8e47dd",
   "metadata": {},
   "source": [
    "Q10. Write a Python program to find the difference between consecutive numbers in a list."
   ]
  },
  {
   "cell_type": "code",
   "execution_count": null,
   "id": "82759e20-9b26-4eb7-9fc6-2f8fc89a42da",
   "metadata": {},
   "outputs": [],
   "source": [
    "def diff_consecutive_nums(nums):\n",
    "  result = [b-a for a, b in zip(nums[:-1], nums[1:])]\n",
    "  return result\n",
    "\t\n",
    "nums1 = [1, 1, 3, 4, 4, 5, 6, 7]\n",
    "print(\"Original list:\")\n",
    "print(nums1)\n",
    "print(\"Difference between consecutive numbers of the said list:\") \n",
    "print(diff_consecutive_nums(nums1))"
   ]
  }
 ],
 "metadata": {
  "kernelspec": {
   "display_name": "Python 3 (ipykernel)",
   "language": "python",
   "name": "python3"
  },
  "language_info": {
   "codemirror_mode": {
    "name": "ipython",
    "version": 3
   },
   "file_extension": ".py",
   "mimetype": "text/x-python",
   "name": "python",
   "nbconvert_exporter": "python",
   "pygments_lexer": "ipython3",
   "version": "3.10.6"
  }
 },
 "nbformat": 4,
 "nbformat_minor": 5
}
